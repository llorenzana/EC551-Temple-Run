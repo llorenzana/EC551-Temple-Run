{
  "nbformat": 4,
  "nbformat_minor": 0,
  "metadata": {
    "colab": {
      "provenance": []
    },
    "kernelspec": {
      "name": "python3",
      "display_name": "Python 3"
    },
    "language_info": {
      "name": "python"
    }
  },
  "cells": [
    {
      "cell_type": "code",
      "execution_count": 4,
      "metadata": {
        "id": "Yvcjdn-PnI3S"
      },
      "outputs": [],
      "source": [
        "import cv2\n",
        "import math\n",
        "\n",
        "bram_code = \"`timescale 1ns / 1ps\\n\\n\" + \"module block_ram(input [9:0] x, input[8:0] y, output reg [11:0] VGA);\\n\" + \"\\n\"\n",
        "bram_code += \"\\talways @(*) begin\\n\"\n",
        "\n",
        "imgBGR = cv2.imread(\"puppy.png\")\n",
        "imgBGR = cv2.resize(imgBGR, (40, 40))\n",
        "for x in range(len(imgBGR)):\n",
        "  for y in range(len(imgBGR[0])):\n",
        "    line = \"\"\n",
        "    if x == 0 and y == 0:\n",
        "      line += \"\\t\\tif \"\n",
        "    else:\n",
        "      line += \"else if \"\n",
        "\n",
        "    line += \"(x==\" + str(x) + \" && y==\" + str(y) + \") begin\\n\"\n",
        "    VGA_R = bin(math.floor(imgBGR[x][y][2] / 16))[2:].zfill(4)\n",
        "    VGA_G = bin(math.floor(imgBGR[x][y][1] / 16))[2:].zfill(4)\n",
        "    VGA_B = bin(math.floor(imgBGR[x][y][0] / 16))[2:].zfill(4)\n",
        "    line += \"\\t\\t\\tVGA = {4'b\" + str(VGA_R) + \", 4'b\" + str(VGA_G) + \", 4'b\" + str(VGA_B) + \"};\"\n",
        "\n",
        "    line += \"\\n\\t\\tend \"\n",
        "    bram_code += line\n",
        "\n",
        "bram_code += \"\\n\\tend\\nendmodule\"\n",
        "#print(bram_code)\n",
        "with open(\"bram.v\", \"w\") as file:\n",
        "  file.write(bram_code)\n"
      ]
    }
  ]
}